{
 "cells": [
  {
   "cell_type": "code",
   "execution_count": 1,
   "metadata": {},
   "outputs": [],
   "source": [
    "import numpy as np"
   ]
  },
  {
   "cell_type": "markdown",
   "metadata": {},
   "source": [
    "### Step 1: Define the robot kinematics\n",
    "\n",
    "#### x = f(q)\n"
   ]
  },
  {
   "cell_type": "markdown",
   "metadata": {},
   "source": [
    "### Step 2: Compute Jacobian for each task or constraint\n",
    "\n",
    "#### dxi = Ji(q) dq,   where i = 0, 1,2 ... .k-1\n",
    "\n",
    " and J0 has the higest priority and Jk-1 has the lowest proiority"
   ]
  },
  {
   "cell_type": "markdown",
   "metadata": {},
   "source": [
    "### Step 3: Apply psuedo inverse Jacobian for each task/constraint since dim(xi) < dim(q) for real world application\n",
    "<img src=\"test.png\">\n",
    "\n",
    " Weigted psuedo inverse could be applied depending upon different joint types. But for the simplicity, we will use Moore-Penrose psuedo inverse here"
   ]
  },
  {
   "cell_type": "markdown",
   "metadata": {},
   "source": [
    "### Step 4: Compute the null space N of Jacobian J\n",
    "<img src = \"null.png\">"
   ]
  },
  {
   "cell_type": "markdown",
   "metadata": {},
   "source": [
    "\n",
    "### Step 5: Compute successively nullspace projection matrix. Less import tasks are projected recursively onto the nullspace Ni.\n",
    "<img src = \"form4.png\">"
   ]
  },
  {
   "cell_type": "markdown",
   "metadata": {},
   "source": [
    "### Step 6: Calculate the joint velocity with hierarchical multiple tasks:\n",
    "\n",
    "### dq = sum(Ni,dqi) where i =0,k-1"
   ]
  },
  {
   "cell_type": "code",
   "execution_count": 2,
   "metadata": {},
   "outputs": [],
   "source": [
    "def compute_inverse_hierarchy(dx0_J0,*argv):\n",
    "\n",
    "    \"\"\"Compute successive nullspace projection matrics\n",
    "    input: dx0_J0,tuple of (dx0, J0)\n",
    "            argv, tuple of (dxi, Ji) where i = i ... k-1\n",
    "    output: dq for hirarachical multiple tasks\n",
    "    \"\"\"\n",
    "\n",
    "    # Determine the null space of the highest proiority task via psuedo inverve first\n",
    "    dx0, J0 = dx0_J0\n",
    "    m0  =  J0.shape[1]\n",
    "    J0_pinv = np.linalg.pinv(J0)\n",
    "    H0 = np.matmul(J0_pinv,J0)\n",
    "    null = np.identity(m0) - H0\n",
    "    dq_null = np.zeros((m0,1))\n",
    "    \n",
    "    # Iteratively commpute the null space of each Jacobian(Ji) and task points(dxi)\n",
    "    for dxi,Ji in argv:\n",
    "        Ji_pinv = np.linalg.pinv(Ji) \n",
    "        Hi = np.matmul(Ji_pinv,Ji)\n",
    "\n",
    "        mi = Ji.shape[1]  # m is the number of constrains given task [i]\n",
    "        null = np.matmul(null, (np.identity(mi) - Hi))\n",
    "\n",
    "        dqi = np.matmul(Ji_pinv,dxi)\n",
    "        dq_null = dq_null+ np.matmul(null,dqi)\n",
    "        \n",
    "    dq = np.matmul(J0_pinv,dx0) + dq_null\n",
    "    \n",
    "    return dq,dq_null\n"
   ]
  },
  {
   "cell_type": "markdown",
   "metadata": {},
   "source": [
    "\n",
    "## Step 7: Check the algortihm  with  a simple example \n",
    "\n",
    "Let's consider a planar robot with 3 links. Each link has unit length 1.\n",
    "Its forward kinematics is defined as \n",
    "#### x = cos(q1)+ cos(q1+q2) + cos(q1+q2+q3)\n",
    "#### y = sin(q1)+ sin(q1+q2) + sin(q1+q2+q3)"
   ]
  },
  {
   "cell_type": "markdown",
   "metadata": {},
   "source": [
    "The  Jacobian of the 3rd link tip  can be computed  as the following when when q1 = 0 and q2 = 90 and q3 = 0.  \n",
    "#### J0 =[ [-1-1, 0], [2, 1,1]] \n",
    "\n",
    "The high priority task is defined to follow \n",
    "#### dx0= [0,1]T"
   ]
  },
  {
   "cell_type": "code",
   "execution_count": 3,
   "metadata": {},
   "outputs": [
    {
     "data": {
      "text/plain": [
       "array([[-5.87388775e-17,  3.33333333e-01],\n",
       "       [-1.00000000e+00, -3.33333333e-01],\n",
       "       [ 1.00000000e+00,  6.66666667e-01]])"
      ]
     },
     "execution_count": 3,
     "metadata": {},
     "output_type": "execute_result"
    }
   ],
   "source": [
    "J0 = np.array([[-1, -1, 0],[2,1,1]])\n",
    "dx0 = np.array([[1],[0]])\n",
    "\n",
    "J0_pinv = np.linalg.pinv(J0)\n",
    "J0_pinv"
   ]
  },
  {
   "cell_type": "markdown",
   "metadata": {},
   "source": [
    "The  Jacobian of the 2nd link tip at the same configureation is \n",
    "#### J0 =[ [-1-1, 0], [1,1,0] \n",
    "The low priority task is to follow \n",
    "#### dx1= [1,1]T"
   ]
  },
  {
   "cell_type": "code",
   "execution_count": 4,
   "metadata": {},
   "outputs": [
    {
     "data": {
      "text/plain": [
       "array([[-5.87388775e-17,  3.33333333e-01],\n",
       "       [-1.00000000e+00, -3.33333333e-01],\n",
       "       [ 1.00000000e+00,  6.66666667e-01]])"
      ]
     },
     "execution_count": 4,
     "metadata": {},
     "output_type": "execute_result"
    }
   ],
   "source": [
    "J1 = np.array([[ 1, -1,0],[1,0,0]])\n",
    "dx1 = np.array([[0],[1]])\n",
    "\n",
    "J1_pinv = np.linalg.pinv(J0)\n",
    "J1_pinv"
   ]
  },
  {
   "cell_type": "code",
   "execution_count": 5,
   "metadata": {},
   "outputs": [],
   "source": [
    "dx0_J0 = (dx0, J0)\n",
    "dx1_J1 = (dx1,J1)"
   ]
  },
  {
   "cell_type": "code",
   "execution_count": 6,
   "metadata": {},
   "outputs": [
    {
     "name": "stdout",
     "output_type": "stream",
     "text": [
      "dq [[-1.03728349e-16]\n",
      " [-1.00000000e+00]\n",
      " [ 1.00000000e+00]]\n",
      "dq_null [[-4.49894711e-17]\n",
      " [ 4.49894711e-17]\n",
      " [ 4.49894711e-17]]\n"
     ]
    }
   ],
   "source": [
    "dq, dq_null = compute_inverse_hierarchy(dx0_J0, dx1_J1)\n",
    "print(\"dq\",dq)\n",
    "print(\"dq_null\", dq_null)"
   ]
  },
  {
   "cell_type": "markdown",
   "metadata": {},
   "source": [
    "### ^^ dq_null is all zeros. Something wrong!!!"
   ]
  },
  {
   "cell_type": "code",
   "execution_count": null,
   "metadata": {},
   "outputs": [],
   "source": []
  },
  {
   "cell_type": "code",
   "execution_count": null,
   "metadata": {},
   "outputs": [],
   "source": []
  },
  {
   "cell_type": "code",
   "execution_count": null,
   "metadata": {},
   "outputs": [],
   "source": []
  },
  {
   "cell_type": "code",
   "execution_count": null,
   "metadata": {},
   "outputs": [],
   "source": []
  },
  {
   "cell_type": "code",
   "execution_count": null,
   "metadata": {},
   "outputs": [],
   "source": []
  },
  {
   "cell_type": "code",
   "execution_count": null,
   "metadata": {},
   "outputs": [],
   "source": []
  },
  {
   "cell_type": "code",
   "execution_count": null,
   "metadata": {},
   "outputs": [],
   "source": []
  },
  {
   "cell_type": "code",
   "execution_count": null,
   "metadata": {},
   "outputs": [],
   "source": []
  },
  {
   "cell_type": "markdown",
   "metadata": {},
   "source": [
    "## Sandbox: Ignore below"
   ]
  },
  {
   "cell_type": "code",
   "execution_count": 7,
   "metadata": {},
   "outputs": [
    {
     "data": {
      "text/plain": [
       "array([[ 0.33333333, -0.33333333, -0.33333333],\n",
       "       [-0.33333333,  0.33333333,  0.33333333],\n",
       "       [-0.33333333,  0.33333333,  0.33333333]])"
      ]
     },
     "execution_count": 7,
     "metadata": {},
     "output_type": "execute_result"
    }
   ],
   "source": [
    "dx0, J0 = dx0_J0\n",
    "m0  =  J0.shape[1]\n",
    "J0_pinv = np.linalg.pinv(J0)\n",
    "H0 = np.matmul(J0_pinv,J0)\n",
    "null = np.identity(m0) - H0\n",
    "dq_null = np.zeros((m0,1))\n",
    "null   \n",
    "    # Iteratively commpute the null space of each Jacobian(Jk) and task points(dxk)\n"
   ]
  },
  {
   "cell_type": "code",
   "execution_count": 8,
   "metadata": {},
   "outputs": [],
   "source": [
    "J1_pinv = np.linalg.pinv(J1)\n",
    "H1 = np.matmul(J1_pinv,J1)\n",
    "m1 = J1.shape[1]  # m is the number of constrains given task [i]\n",
    "null = np.matmul(null, (np.identity(m1) - H1))\n",
    "\n",
    "dq1 = np.matmul(J1_pinv,dx1)\n",
    "dq_null = dq_null+ np.matmul(null,dq1)\n",
    "        \n",
    "dq = np.matmul(J0_pinv,dx0) + dq_null\n"
   ]
  },
  {
   "cell_type": "code",
   "execution_count": 9,
   "metadata": {},
   "outputs": [
    {
     "name": "stdout",
     "output_type": "stream",
     "text": [
      "[[0.00000000e+00 8.70761916e-17 0.00000000e+00]\n",
      " [0.00000000e+00 2.22044605e-16 0.00000000e+00]\n",
      " [0.00000000e+00 0.00000000e+00 1.00000000e+00]]\n"
     ]
    }
   ],
   "source": [
    "print (np.identity(m1) - H1)"
   ]
  },
  {
   "cell_type": "code",
   "execution_count": 10,
   "metadata": {},
   "outputs": [
    {
     "name": "stdout",
     "output_type": "stream",
     "text": [
      "[[ 0.00000000e+00 -4.49894711e-17 -3.33333333e-01]\n",
      " [ 0.00000000e+00  4.49894711e-17  3.33333333e-01]\n",
      " [ 0.00000000e+00  4.49894711e-17  3.33333333e-01]]\n"
     ]
    }
   ],
   "source": [
    "print(null)"
   ]
  },
  {
   "cell_type": "code",
   "execution_count": 11,
   "metadata": {},
   "outputs": [
    {
     "data": {
      "text/plain": [
       "array([[1.],\n",
       "       [1.],\n",
       "       [0.]])"
      ]
     },
     "execution_count": 11,
     "metadata": {},
     "output_type": "execute_result"
    }
   ],
   "source": [
    "dq1"
   ]
  },
  {
   "cell_type": "code",
   "execution_count": 12,
   "metadata": {},
   "outputs": [
    {
     "ename": "NameError",
     "evalue": "name 'dq0' is not defined",
     "output_type": "error",
     "traceback": [
      "\u001b[0;31m---------------------------------------\u001b[0m",
      "\u001b[0;31mNameError\u001b[0mTraceback (most recent call last)",
      "\u001b[0;32m<ipython-input-12-8155984694aa>\u001b[0m in \u001b[0;36m<module>\u001b[0;34m\u001b[0m\n\u001b[0;32m----> 1\u001b[0;31m \u001b[0mdq0\u001b[0m\u001b[0;34m\u001b[0m\u001b[0m\n\u001b[0m",
      "\u001b[0;31mNameError\u001b[0m: name 'dq0' is not defined"
     ]
    }
   ],
   "source": [
    "dq0"
   ]
  },
  {
   "cell_type": "code",
   "execution_count": null,
   "metadata": {},
   "outputs": [],
   "source": [
    "np.matmul(null,dq1)"
   ]
  },
  {
   "cell_type": "code",
   "execution_count": null,
   "metadata": {},
   "outputs": [],
   "source": [
    "dq0 = np.matmul(J0_pinv,dx0)\n",
    "dq0"
   ]
  },
  {
   "cell_type": "code",
   "execution_count": null,
   "metadata": {},
   "outputs": [],
   "source": [
    "H0 = np.matmul(J0_pinv, J0)\n",
    "H0"
   ]
  },
  {
   "cell_type": "code",
   "execution_count": null,
   "metadata": {},
   "outputs": [],
   "source": [
    "N0 = np.identity(3) - H0\n",
    "N0"
   ]
  },
  {
   "cell_type": "code",
   "execution_count": null,
   "metadata": {},
   "outputs": [],
   "source": [
    "dq0 = np.matmul(J0_pinv,dx0)"
   ]
  },
  {
   "cell_type": "code",
   "execution_count": null,
   "metadata": {},
   "outputs": [],
   "source": [
    "null = np.identity(3) - H0"
   ]
  },
  {
   "cell_type": "code",
   "execution_count": null,
   "metadata": {},
   "outputs": [],
   "source": [
    "null"
   ]
  },
  {
   "cell_type": "code",
   "execution_count": null,
   "metadata": {},
   "outputs": [],
   "source": [
    "dq1 = np.matmul(J1_pinv,dx1)\n",
    "dq1"
   ]
  },
  {
   "cell_type": "code",
   "execution_count": null,
   "metadata": {},
   "outputs": [],
   "source": [
    "dq_null = np.matmul(N0,dq1)\n",
    "dq_null"
   ]
  },
  {
   "cell_type": "code",
   "execution_count": null,
   "metadata": {},
   "outputs": [],
   "source": []
  }
 ],
 "metadata": {
  "kernelspec": {
   "display_name": "Python 3",
   "language": "python",
   "name": "python3"
  },
  "language_info": {
   "codemirror_mode": {
    "name": "ipython",
    "version": 3
   },
   "file_extension": ".py",
   "mimetype": "text/x-python",
   "name": "python",
   "nbconvert_exporter": "python",
   "pygments_lexer": "ipython3",
   "version": "3.5.2"
  }
 },
 "nbformat": 4,
 "nbformat_minor": 2
}
